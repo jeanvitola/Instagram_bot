{
 "cells": [
  {
   "cell_type": "code",
   "execution_count": 32,
   "id": "5289ca2d",
   "metadata": {},
   "outputs": [],
   "source": [
    "#1) Módulos de importe/librerias\n",
    "import os\n",
    "from selenium import webdriver\n",
    "import pandas as pd\n",
    "from bs4 import BeautifulSoup\n",
    "from selenium.webdriver.common.keys import Keys\n",
    "import time \n",
    "from selenium.webdriver.common.by import By\n",
    "from selenium.webdriver.support.select import Select\n",
    "from selenium.webdriver.support.select import Select\n",
    "import warnings\n",
    "warnings.filterwarnings('ignore')\n",
    "\n",
    "#Configuración del webdriver\n",
    "os.environ[\"PATH\"] += os.pathsep + r'C:\\SeleniumDrivers';\n",
    "driver= webdriver.Chrome();\n",
    "driver.get('https://www.instagram.com/')\n",
    "page_detailed = driver.page_source\n",
    "\n",
    "\n",
    "#login\n",
    "time.sleep(5)\n",
    "username = driver.find_element_by_css_selector(\"input[name='username']\")\n",
    "password = driver.find_element_by_css_selector(\"input[name='password']\")\n",
    "username.clear()\n",
    "password.clear()\n",
    "username.send_keys(\"#user\")\n",
    "password.send_keys(\"#Password\")\n",
    "time.sleep(5)\n",
    "login = driver.find_element_by_css_selector(\"button[type='submit']\").click()\n",
    "\n",
    "#save your login info?\n",
    "time.sleep(10)\n",
    "notnow = driver.find_element_by_xpath(\"//button[contains(text(), 'Not Now')]\").click()\n",
    "#turn on notif\n",
    "time.sleep(10)\n",
    "notnow2 = driver.find_element_by_xpath(\"//button[contains(text(), 'Not Now')]\").click()\n",
    "\n"
   ]
  },
  {
   "cell_type": "code",
   "execution_count": 33,
   "id": "21166741",
   "metadata": {},
   "outputs": [],
   "source": [
    "profile_insta=[]\n",
    "post_insta=[]\n",
    "followers_insta=[]\n",
    "following_insta=[]\n",
    "name_insta=[]\n",
    "\n",
    "\n",
    "profile=driver.find_element_by_xpath('//*[@id=\"react-root\"]/div/div/section/main/div/header/section/div[1]/h2')\n",
    "profile_insta.append(profile.text)\n",
    "post= driver.find_element_by_class_name('g47SY')\n",
    "post_insta.append(post.text)\n",
    "\n"
   ]
  },
  {
   "cell_type": "code",
   "execution_count": 34,
   "id": "16d8f996",
   "metadata": {},
   "outputs": [
    {
     "name": "stdout",
     "output_type": "stream",
     "text": [
      "['pizzarioctg']\n",
      "['102']\n",
      "[]\n"
     ]
    }
   ],
   "source": [
    "print(profile_insta)\n",
    "print(post_insta)\n",
    "print(followers_insta)"
   ]
  },
  {
   "cell_type": "code",
   "execution_count": null,
   "id": "522d1994",
   "metadata": {
    "scrolled": true
   },
   "outputs": [],
   "source": [
    "\n"
   ]
  },
  {
   "cell_type": "code",
   "execution_count": null,
   "id": "147c0baa",
   "metadata": {},
   "outputs": [],
   "source": []
  },
  {
   "cell_type": "code",
   "execution_count": null,
   "id": "64ff9d8c",
   "metadata": {
    "scrolled": false
   },
   "outputs": [],
   "source": [
    "\n",
    "  \n"
   ]
  },
  {
   "cell_type": "code",
   "execution_count": null,
   "id": "d973acca",
   "metadata": {},
   "outputs": [],
   "source": []
  },
  {
   "cell_type": "code",
   "execution_count": null,
   "id": "a7f43ed0",
   "metadata": {},
   "outputs": [],
   "source": []
  }
 ],
 "metadata": {
  "kernelspec": {
   "display_name": "Python 3 (ipykernel)",
   "language": "python",
   "name": "python3"
  },
  "language_info": {
   "codemirror_mode": {
    "name": "ipython",
    "version": 3
   },
   "file_extension": ".py",
   "mimetype": "text/x-python",
   "name": "python",
   "nbconvert_exporter": "python",
   "pygments_lexer": "ipython3",
   "version": "3.9.7"
  }
 },
 "nbformat": 4,
 "nbformat_minor": 5
}
